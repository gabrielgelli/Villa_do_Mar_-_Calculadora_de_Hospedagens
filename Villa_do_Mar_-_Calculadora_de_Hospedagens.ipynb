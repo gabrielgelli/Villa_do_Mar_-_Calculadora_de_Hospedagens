{
 "cells": [
  {
   "cell_type": "markdown",
   "metadata": {},
   "source": [
    "## Calculadora de Hospedagens\n",
    "Preencha os parâmetros e aperte play para calcular a hospedagem"
   ]
  },
  {
   "cell_type": "code",
   "execution_count": 66,
   "metadata": {},
   "outputs": [
    {
     "name": "stdout",
     "output_type": "stream",
     "text": [
      "Dias:  2 Adultos_A:  3 2 4 1\n",
      "Valor por diária: R$ 655.00\n",
      "Valor da hospedagem: R$ 1,310.00\n",
      "Valor por diária/pessoa contábil: R$ 81.88\n",
      "Valor da hospedagem/pessoa contábil: R$ 163.75\n"
     ]
    }
   ],
   "source": [
    "# Parâmetros\n",
    "Diarias = 2\n",
    "Adultos_A = 3\n",
    "Criancas_A = 2  # bebê ou criança até 5 anos\n",
    "Adultos_B = 4\n",
    "Criancas_B = 1  # bebê ou criança até 5 anos\n",
    "Calcula_Hospedagem(Diarias, Adultos_A, Criancas_A, Adultos_B, Criancas_B)"
   ]
  },
  {
   "cell_type": "code",
   "execution_count": 59,
   "metadata": {},
   "outputs": [
    {
     "name": "stdout",
     "output_type": "stream",
     "text": [
      "Valor por diária: R$ 305.00\n",
      "Valor da hospedagem: R$ 915.00\n",
      "Valor por diária/pessoa contábil: R$ 101.67\n",
      "Valor da hospedagem/pessoa contábil: R$ 305.00\n"
     ]
    }
   ],
   "source": [
    "Diarias = 3\n",
    "Adultos_A = 3\n",
    "Criancas_A = 1  # bebê ou criança até 5 anos\n",
    "Adultos_B = 0\n",
    "Criancas_B = 0  # bebê ou criança até 5 anos\n",
    "Calcula_Hospedagem(Diarias, Adultos_A, Criancas_A, Adultos_B, Criancas_B)"
   ]
  },
  {
   "cell_type": "code",
   "execution_count": 60,
   "metadata": {},
   "outputs": [
    {
     "name": "stdout",
     "output_type": "stream",
     "text": [
      "Excesso de Pessoas na Suíte B\n"
     ]
    }
   ],
   "source": [
    "Diarias = 7\n",
    "Adultos_A = 4\n",
    "Criancas_A = 1  # bebê ou criança até 5 anos\n",
    "Adultos_B = 1\n",
    "Criancas_B = 5  # bebê ou criança até 5 anos\n",
    "Calcula_Hospedagem(Diarias, Adultos_A, Criancas_A, Adultos_B, Criancas_B)"
   ]
  },
  {
   "cell_type": "code",
   "execution_count": 61,
   "metadata": {},
   "outputs": [
    {
     "name": "stdout",
     "output_type": "stream",
     "text": [
      "Erro ao calcular diária\n"
     ]
    }
   ],
   "source": [
    "Calcula_Hospedagem(1,1,1,1,1)"
   ]
  },
  {
   "cell_type": "markdown",
   "metadata": {},
   "source": [
    "## Código para cálculo das hospedagens"
   ]
  },
  {
   "cell_type": "code",
   "execution_count": 1,
   "metadata": {},
   "outputs": [],
   "source": [
    "################################\n",
    "## Calculadora de Hospedagens ##\n",
    "################################\n",
    "\n",
    "# Número de Pessoas Contábeis:     0, 1,   2,   3,   4,   5, 6, 7, 8, 9,10\n",
    "Meio_Chale_de_Frente_para_o_Mar = [0, 0, 245, 305, 365, 425, 0, 0, 0, 0, 0]\n",
    "\n",
    "# Constantes\n",
    "Min_Pessoas_por_Chale = 2\n",
    "Min_Pessoas_por_Chale_no_Reveillon = 4\n",
    "Max_Pessoas_por_Suite = 5\n",
    "\n",
    "\n",
    "def Calcula_Hospedagem(Diarias, Adultos_A, Criancas_A, Adultos_B, Criancas_B):\n",
    "\n",
    "    Pessoas_na_Suite_A = Adultos_A + Criancas_A\n",
    "    Pessoas_na_Suite_B = Adultos_B + Criancas_B\n",
    "    Pessoas_no_Chale = Adultos_A + Criancas_A + Adultos_B + Criancas_B\n",
    "\n",
    "    # Confirmar se satisfaz as regras\n",
    "    if(Pessoas_no_Chale < Min_Pessoas_por_Chale):\n",
    "        print(\"Não atendeu ao mínimo de 2 pessoas no Chalé\")\n",
    "        return\n",
    "    elif(Pessoas_na_Suite_A == 1 and Pessoas_na_Suite_B == 1):\n",
    "        print(\"Apenas uma pessoa em cada suíte, o mínimo para ocupar duas suítes são 3\")\n",
    "        return\n",
    "    if(Pessoas_na_Suite_A > Max_Pessoas_por_Suite):\n",
    "        print(\"Excesso de Pessoas na Suíte A\")\n",
    "        return\n",
    "    if(Pessoas_na_Suite_B > Max_Pessoas_por_Suite):\n",
    "        print(\"Excesso de Pessoas na Suíte B\")\n",
    "        return\n",
    "\n",
    "    # ======================================================================\n",
    "    # Cálculo dos valores\n",
    "\n",
    "    # Suítes\n",
    "    if(Pessoas_na_Suite_A == 0 or Pessoas_na_Suite_B == 0):\n",
    "        Suites = 1\n",
    "    else:\n",
    "        Suites = 2\n",
    "\n",
    "    # Pessoas contábeis\n",
    "    Criancas_no_Chale = Criancas_A + Criancas_B\n",
    "    Adultos_no_Chale = Adultos_A + Adultos_B\n",
    "    if(Criancas_no_Chale == 0):\n",
    "        Pessoas_Contabeis = Adultos_no_Chale\n",
    "    elif(Criancas_no_Chale == 1):\n",
    "        Pessoas_Contabeis = Adultos_no_Chale\n",
    "    elif(Criancas_no_Chale > 1):\n",
    "        Pessoas_Contabeis = Pessoas_no_Chale - Suites\n",
    "\n",
    "    # Valor final\n",
    "    if(Suites == 1):  # Meio Chalé\n",
    "        match Pessoas_Contabeis:\n",
    "            case 2:\n",
    "                Diaria = 245\n",
    "            case 3:\n",
    "                Diaria = 305\n",
    "            case 4:\n",
    "                Diaria = 365\n",
    "            case 5:\n",
    "                Diaria = 425\n",
    "            case _:  # default\n",
    "                Diaria = 0\n",
    "    elif(Suites == 2):  # Chalé Inteiro\n",
    "        match Pessoas_Contabeis:\n",
    "            case 3:\n",
    "                Diaria = 355\n",
    "            case 4:\n",
    "                Diaria = 415\n",
    "            case 5:\n",
    "                Diaria = 475\n",
    "            case 6:\n",
    "                Diaria = 535\n",
    "            case 7:\n",
    "                Diaria = 595\n",
    "            case 8:\n",
    "                Diaria = 655\n",
    "            case 9:\n",
    "                Diaria = 715\n",
    "            case 10:\n",
    "                Diaria = 775\n",
    "            case _:  # default\n",
    "                Diaria = 0\n",
    "\n",
    "    if(Diaria > 0):\n",
    "        print(\"Dias:\", Diarias, \" Adultos A:\", Adultos_A, \" Criancas A:\", Criancas_A,\" Adultos B:\",  Adultos_B,\" Criancas B:\", Criancas_B,)\n",
    "        print(\"Valor por diária:\", 'R$ {:,.2f}'.format(Diaria))\n",
    "        print(\"Valor da hospedagem:\", 'R$ {:,.2f}'.format(Diarias*Diaria))\n",
    "        print(\"Valor por diária/pessoa contábil:\", 'R$ {:,.2f}'.format(Diaria/Pessoas_Contabeis))\n",
    "        print(\"Valor da hospedagem/pessoa contábil:\", 'R$ {:,.2f}'.format(Diarias*Diaria/Pessoas_Contabeis))\n",
    "        print(\"\")\n",
    "    else:\n",
    "        print(\"Erro ao calcular diária\")"
   ]
  },
  {
   "cell_type": "code",
   "execution_count": 68,
   "metadata": {},
   "outputs": [
    {
     "name": "stdout",
     "output_type": "stream",
     "text": [
      "Dias: 1  Adultos A: 2  Criancas A: 1  Adultos B: 2  Criancas B: 1\n",
      "Valor por diária: R$ 415.00\n",
      "Valor da hospedagem: R$ 415.00\n",
      "Valor por diária/pessoa contábil: R$ 103.75\n",
      "Valor da hospedagem/pessoa contábil: R$ 103.75\n"
     ]
    }
   ],
   "source": [
    "Calcula_Hospedagem(1,2,1,2,1)"
   ]
  },
  {
   "cell_type": "code",
   "execution_count": 3,
   "metadata": {},
   "outputs": [],
   "source": [
    "import ipywidgets as widgets"
   ]
  },
  {
   "cell_type": "code",
   "execution_count": 6,
   "metadata": {},
   "outputs": [
    {
     "data": {
      "application/vnd.jupyter.widget-view+json": {
       "model_id": "d5fad41dd6d74c0ca57ecdd669cca232",
       "version_major": 2,
       "version_minor": 0
      },
      "text/plain": [
       "HBox(children=(Label(value='Chalé .'), Dropdown(description=' Tipo:', options=('Frente para o Mar', 'Jardim'),…"
      ]
     },
     "metadata": {},
     "output_type": "display_data"
    },
    {
     "data": {
      "application/vnd.jupyter.widget-view+json": {
       "model_id": "554fe6530b5d4ee3bb3b35b01f4dc611",
       "version_major": 2,
       "version_minor": 0
      },
      "text/plain": [
       "HBox(children=(Label(value='Suíte A'), Dropdown(description='Adultos:', options=(0, 1, 2, 3, 4, 5), value=0), …"
      ]
     },
     "metadata": {},
     "output_type": "display_data"
    },
    {
     "data": {
      "application/vnd.jupyter.widget-view+json": {
       "model_id": "d7865547120145138e759fc0e8bdc99d",
       "version_major": 2,
       "version_minor": 0
      },
      "text/plain": [
       "HBox(children=(Label(value='Suíte B'), Dropdown(description='Adultos:', options=(0, 1, 2, 3, 4, 5), value=0), …"
      ]
     },
     "metadata": {},
     "output_type": "display_data"
    },
    {
     "data": {
      "application/vnd.jupyter.widget-view+json": {
       "model_id": "7509832fb9144c87a97e93b7d4a01955",
       "version_major": 2,
       "version_minor": 0
      },
      "text/plain": [
       "HBox(children=(Button(description='Calcular!', style=ButtonStyle()), Button(description='Clear', style=ButtonS…"
      ]
     },
     "metadata": {},
     "output_type": "display_data"
    },
    {
     "data": {
      "application/vnd.jupyter.widget-view+json": {
       "model_id": "1f6746cfce2840e1804feb078b706113",
       "version_major": 2,
       "version_minor": 0
      },
      "text/plain": [
       "Output()"
      ]
     },
     "metadata": {},
     "output_type": "display_data"
    }
   ],
   "source": [
    "from IPython.display import display\n",
    "Chale = widgets.Dropdown(\n",
    "    options=[\"Frente para o Mar\", \"Jardim\"],\n",
    "    value=\"Frente para o Mar\",\n",
    "    description=' Tipo:',\n",
    "    disabled=False,\n",
    ")\n",
    "Diarias = widgets.Dropdown(\n",
    "    options=[0, 1, 2, 3, 4, 5],\n",
    "    value=0,\n",
    "    description='Diárias:',\n",
    "    disabled=False,\n",
    ")\n",
    "Adultos_A = widgets.Dropdown(\n",
    "    options=[0, 1, 2, 3, 4, 5],\n",
    "    value=0,\n",
    "    description='Adultos:',\n",
    "    disabled=False,\n",
    ")\n",
    "Criancas_A = widgets.Dropdown(\n",
    "    options=[0, 1, 2, 3, 4, 5],\n",
    "    value=0,\n",
    "    description='Crianças:',\n",
    "    disabled=False,\n",
    ")\n",
    "Adultos_B = widgets.Dropdown(\n",
    "    options=[0, 1, 2, 3, 4, 5],\n",
    "    value=0,\n",
    "    description='Adultos:',\n",
    "    disabled=False,\n",
    ")\n",
    "Criancas_B = widgets.Dropdown(\n",
    "    options=[0, 1, 2, 3, 4, 5],\n",
    "    value=0,\n",
    "    description='Crianças:',\n",
    "    disabled=False,\n",
    ")\n",
    "button = widgets.Button(description=\"Calcular!\")\n",
    "reset_button = widgets.Button(description=\"Clear\")\n",
    "output = widgets.Output()\n",
    "\n",
    "Inputs_Diarias = widgets.HBox([widgets.Label(value=\"Chalé .\"), Chale, Diarias])\n",
    "Inputs_Suite_A = widgets.HBox([widgets.Label(value=\"Suíte A\"), Adultos_A, Criancas_A])\n",
    "Inputs_Suite_B = widgets.HBox([widgets.Label(value=\"Suíte B\"), Adultos_B, Criancas_B])\n",
    "Inputs_Botoes = widgets.HBox([button, reset_button])\n",
    "\n",
    "display(Inputs_Diarias, Inputs_Suite_A, Inputs_Suite_B, Inputs_Botoes, output)\n",
    "\n",
    "def on_button_clicked(b):\n",
    "    with output:\n",
    "        Calcula_Hospedagem(Diarias.value, Adultos_A.value, Criancas_A.value, Adultos_B.value, Criancas_B.value)\n",
    "def on_reset_button_clicked(b):\n",
    "    output.clear_output()\n",
    "\n",
    "\n",
    "button.on_click(on_button_clicked)\n",
    "reset_button.on_click(on_reset_button_clicked)\n"
   ]
  },
  {
   "cell_type": "code",
   "execution_count": null,
   "metadata": {},
   "outputs": [],
   "source": []
  }
 ],
 "metadata": {
  "interpreter": {
   "hash": "2936d515036b2128fccd94cfbb1a99d931bcd482dd6a9206bcc29798550d33ce"
  },
  "kernelspec": {
   "display_name": "Python 3.10.0 64-bit",
   "language": "python",
   "name": "python3"
  },
  "language_info": {
   "codemirror_mode": {
    "name": "ipython",
    "version": 3
   },
   "file_extension": ".py",
   "mimetype": "text/x-python",
   "name": "python",
   "nbconvert_exporter": "python",
   "pygments_lexer": "ipython3",
   "version": "3.10.0"
  },
  "orig_nbformat": 4
 },
 "nbformat": 4,
 "nbformat_minor": 2
}
